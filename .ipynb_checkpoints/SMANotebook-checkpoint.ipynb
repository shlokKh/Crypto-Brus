{
 "cells": [
  {
   "cell_type": "code",
   "execution_count": 11,
   "metadata": {},
   "outputs": [],
   "source": [
    "import numpy as np\n",
    "import pandas as pd"
   ]
  },
  {
   "cell_type": "code",
   "execution_count": 16,
   "metadata": {},
   "outputs": [],
   "source": [
    "from calcSMA import calcSMA\n",
    "import preprocess"
   ]
  },
  {
   "cell_type": "code",
   "execution_count": 17,
   "metadata": {},
   "outputs": [],
   "source": [
    "trades = pd.read_csv('Bitfinex_BTCEUR_trades_2018_02_02.csv')"
   ]
  },
  {
   "cell_type": "code",
   "execution_count": 18,
   "metadata": {},
   "outputs": [
    {
     "data": {
      "text/html": [
       "<div>\n",
       "<style scoped>\n",
       "    .dataframe tbody tr th:only-of-type {\n",
       "        vertical-align: middle;\n",
       "    }\n",
       "\n",
       "    .dataframe tbody tr th {\n",
       "        vertical-align: top;\n",
       "    }\n",
       "\n",
       "    .dataframe thead th {\n",
       "        text-align: right;\n",
       "    }\n",
       "</style>\n",
       "<table border=\"1\" class=\"dataframe\">\n",
       "  <thead>\n",
       "    <tr style=\"text-align: right;\">\n",
       "      <th></th>\n",
       "      <th>id</th>\n",
       "      <th>exchange</th>\n",
       "      <th>symbol</th>\n",
       "      <th>date</th>\n",
       "      <th>price</th>\n",
       "      <th>amount</th>\n",
       "      <th>sell</th>\n",
       "    </tr>\n",
       "  </thead>\n",
       "  <tbody>\n",
       "    <tr>\n",
       "      <th>0</th>\n",
       "      <td>183601815</td>\n",
       "      <td>bf</td>\n",
       "      <td>btceur</td>\n",
       "      <td>1517529608000</td>\n",
       "      <td>7349.60000</td>\n",
       "      <td>0.004568</td>\n",
       "      <td>False</td>\n",
       "    </tr>\n",
       "    <tr>\n",
       "      <th>1</th>\n",
       "      <td>183601825</td>\n",
       "      <td>bf</td>\n",
       "      <td>btceur</td>\n",
       "      <td>1517529609000</td>\n",
       "      <td>7354.68045</td>\n",
       "      <td>0.010000</td>\n",
       "      <td>True</td>\n",
       "    </tr>\n",
       "    <tr>\n",
       "      <th>2</th>\n",
       "      <td>183601823</td>\n",
       "      <td>bf</td>\n",
       "      <td>btceur</td>\n",
       "      <td>1517529609000</td>\n",
       "      <td>7354.68045</td>\n",
       "      <td>0.004568</td>\n",
       "      <td>True</td>\n",
       "    </tr>\n",
       "    <tr>\n",
       "      <th>3</th>\n",
       "      <td>183601833</td>\n",
       "      <td>bf</td>\n",
       "      <td>btceur</td>\n",
       "      <td>1517529610000</td>\n",
       "      <td>7354.60000</td>\n",
       "      <td>0.102395</td>\n",
       "      <td>False</td>\n",
       "    </tr>\n",
       "    <tr>\n",
       "      <th>4</th>\n",
       "      <td>183601904</td>\n",
       "      <td>bf</td>\n",
       "      <td>btceur</td>\n",
       "      <td>1517529626000</td>\n",
       "      <td>7343.40750</td>\n",
       "      <td>0.086580</td>\n",
       "      <td>False</td>\n",
       "    </tr>\n",
       "  </tbody>\n",
       "</table>\n",
       "</div>"
      ],
      "text/plain": [
       "          id exchange  symbol           date       price    amount   sell\n",
       "0  183601815       bf  btceur  1517529608000  7349.60000  0.004568  False\n",
       "1  183601825       bf  btceur  1517529609000  7354.68045  0.010000   True\n",
       "2  183601823       bf  btceur  1517529609000  7354.68045  0.004568   True\n",
       "3  183601833       bf  btceur  1517529610000  7354.60000  0.102395  False\n",
       "4  183601904       bf  btceur  1517529626000  7343.40750  0.086580  False"
      ]
     },
     "execution_count": 18,
     "metadata": {},
     "output_type": "execute_result"
    }
   ],
   "source": [
    "trades.head()"
   ]
  },
  {
   "cell_type": "code",
   "execution_count": 22,
   "metadata": {},
   "outputs": [],
   "source": [
    "# calcSMA(trades, trades['price'],10)"
   ]
  },
  {
   "cell_type": "code",
   "execution_count": null,
   "metadata": {},
   "outputs": [],
   "source": []
  }
 ],
 "metadata": {
  "kernelspec": {
   "display_name": "Python 3",
   "language": "python",
   "name": "python3"
  },
  "language_info": {
   "codemirror_mode": {
    "name": "ipython",
    "version": 3
   },
   "file_extension": ".py",
   "mimetype": "text/x-python",
   "name": "python",
   "nbconvert_exporter": "python",
   "pygments_lexer": "ipython3",
   "version": "3.6.5"
  }
 },
 "nbformat": 4,
 "nbformat_minor": 2
}

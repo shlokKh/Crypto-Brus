{
 "cells": [
  {
   "cell_type": "code",
   "execution_count": 4,
   "metadata": {
    "collapsed": true
   },
   "outputs": [],
   "source": [
    "import matplotlib.pyplot as plt\n",
    "import matplotlib.dates as mdates\n",
    "import pandas as pd\n",
    "import numpy as np\n",
    "import math\n",
    "\n",
    "from datetime import datetime"
   ]
  },
  {
   "cell_type": "code",
   "execution_count": 5,
   "metadata": {},
   "outputs": [],
   "source": [
    "bitInfo = pd.read_csv(\"/Users/wzjbatman/Downloads/Bitfinex_BTCEUR_trades_2018_02_02.csv\")"
   ]
  },
  {
   "cell_type": "code",
   "execution_count": 6,
   "metadata": {},
   "outputs": [],
   "source": [
    "bitInfo['date'] = bitInfo['date'].apply(lambda x: datetime.fromtimestamp(x/1000))\n",
    "# bitInfo.set_index('date', inplace = True)\n",
    "# bitInfo.sort_index(ascending = True, inplace = True)\n",
    "# type(bitInfo.index.values[0])"
   ]
  },
  {
   "cell_type": "code",
   "execution_count": 8,
   "metadata": {
    "collapsed": true
   },
   "outputs": [],
   "source": [
    "# fisher transform function\n",
    "def fish_func(dataFrame):\n",
    "    df_price = dataFrame[\"price\"]\n",
    "    df_norm = (df_price - df_price.mean()) / (df_price.max() - df_price.min())\n",
    "    dataFrame[\"fisher_Transform\"] = np.arctanh(df_norm)"
   ]
  },
  {
   "cell_type": "code",
   "execution_count": 9,
   "metadata": {
    "scrolled": true
   },
   "outputs": [],
   "source": [
    "\n",
    "# mid = df_norm.min() + (df_norm.max() - df_norm.min()) / 2\n",
    "# df_diff = df_norm - mid\n",
    "# print(df_diff)\n",
    "# test = (2 * math.exp(df_diff) - 1) / (2 * math.exp(df_diff) + 1)\n",
    "# print(test)"
   ]
  },
  {
   "cell_type": "code",
   "execution_count": 13,
   "metadata": {},
   "outputs": [
    {
     "name": "stdout",
     "output_type": "stream",
     "text": [
      "0        0.427178\n",
      "1        0.433229\n",
      "2        0.433229\n",
      "3        0.433133\n",
      "4        0.419842\n",
      "5        0.420314\n",
      "6        0.434805\n",
      "7        0.437079\n",
      "8        0.434566\n",
      "9        0.419558\n",
      "10       0.430368\n",
      "11       0.429223\n",
      "12       0.429223\n",
      "13       0.425660\n",
      "14       0.415030\n",
      "15       0.420924\n",
      "16       0.415618\n",
      "17       0.414475\n",
      "18       0.414569\n",
      "19       0.416262\n",
      "20       0.415415\n",
      "21       0.414569\n",
      "22       0.415415\n",
      "23       0.441880\n",
      "24       0.415705\n",
      "25       0.415705\n",
      "26       0.415697\n",
      "27       0.409598\n",
      "28       0.382995\n",
      "29       0.369549\n",
      "           ...   \n",
      "15685    0.208570\n",
      "15686    0.208486\n",
      "15687    0.208486\n",
      "15688    0.208269\n",
      "15689    0.210823\n",
      "15690    0.205154\n",
      "15691    0.197252\n",
      "15692    0.197252\n",
      "15693    0.197252\n",
      "15694    0.197252\n",
      "15695    0.197252\n",
      "15696    0.187677\n",
      "15697    0.187677\n",
      "15698    0.180368\n",
      "15699    0.179624\n",
      "15700    0.197383\n",
      "15701    0.197176\n",
      "15702    0.197900\n",
      "15703    0.202250\n",
      "15704    0.208372\n",
      "15705    0.208165\n",
      "15706    0.198935\n",
      "15707    0.198935\n",
      "15708    0.182528\n",
      "15709    0.186955\n",
      "15710    0.179855\n",
      "15711    0.184660\n",
      "15712    0.191114\n",
      "15713    0.192937\n",
      "15714    0.192938\n",
      "Name: fisher_Transform, Length: 15715, dtype: float64\n"
     ]
    }
   ],
   "source": [
    "fish_func(bitInfo)\n",
    "print(bitInfo[\"fisher_Transform\"])"
   ]
  },
  {
   "cell_type": "code",
   "execution_count": 14,
   "metadata": {},
   "outputs": [
    {
     "name": "stderr",
     "output_type": "stream",
     "text": [
      "/anaconda3/lib/python3.6/site-packages/matplotlib/cbook/deprecation.py:106: MatplotlibDeprecationWarning: Adding an axes using the same arguments as a previous axes currently reuses the earlier instance.  In a future version, a new instance will always be created and returned.  Meanwhile, this warning can be suppressed, and the future behavior ensured, by passing a unique label to each axes instance.\n",
      "  warnings.warn(message, mplDeprecation, stacklevel=1)\n"
     ]
    },
    {
     "data": {
      "image/png": "[encoded data removed]",
      "text/plain": [
       "<matplotlib.figure.Figure at 0x10e2d4160>"
      ]
     },
     "metadata": {},
     "output_type": "display_data"
    }
   ],
   "source": [
    "# myDates = [matplotlib.dates.date2num(i) for i in bitInfo['date']]\n",
    "# plt.plot_date(myDates, fisher_Transform, color = \"blue\")\n",
    "plt.plot(bitInfo['date'], bitInfo[\"fisher_Transform\"], color = \"blue\")\n",
    "plt.gcf().autofmt_xdate()\n",
    "myFmt = mdates.DateFormatter('%m/%d %H:%M');\n",
    "ax = plt.axes();\n",
    "ax.xaxis.set_major_formatter(myFmt);\n",
    "plt.xlabel(\"time\")\n",
    "plt.ylabel(\"normalized data\")\n",
    "plt.show()"
   ]
  },
  {
   "cell_type": "code",
   "execution_count": null,
   "metadata": {
    "collapsed": true
   },
   "outputs": [],
   "source": []
  },
  {
   "cell_type": "code",
   "execution_count": null,
   "metadata": {
    "collapsed": true
   },
   "outputs": [],
   "source": []
  }
 ],
 "metadata": {
  "kernelspec": {
   "display_name": "Python 3",
   "language": "python",
   "name": "python3"
  },
  "language_info": {
   "codemirror_mode": {
    "name": "ipython",
    "version": 3
   },
   "file_extension": ".py",
   "mimetype": "text/x-python",
   "name": "python",
   "nbconvert_exporter": "python",
   "pygments_lexer": "ipython3",
   "version": "3.6.3"
  }
 },
 "nbformat": 4,
 "nbformat_minor": 2
}

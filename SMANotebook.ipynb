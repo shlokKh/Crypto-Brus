{
 "cells": [
  {
   "cell_type": "code",
   "execution_count": 1,
   "metadata": {},
   "outputs": [],
   "source": [
    "import numpy as np\n",
    "import pandas as pd\n",
    "import matplotlib.pyplot as plt\n",
    "import matplotlib.dates as mdates"
   ]
  },
  {
   "cell_type": "code",
   "execution_count": 2,
   "metadata": {},
   "outputs": [],
   "source": [
    "from calcSMA import calcSMA\n",
    "from ewm import exponential_weighted_average\n",
    "from preprocess import read_trade_data"
   ]
  },
  {
   "cell_type": "code",
   "execution_count": 3,
   "metadata": {},
   "outputs": [],
   "source": [
    "junk1, junk2, trades = read_trade_data('Bitfinex_BTCEUR_trades_2018_02_02.csv')"
   ]
  },
  {
   "cell_type": "code",
   "execution_count": 4,
   "metadata": {},
   "outputs": [
    {
     "data": {
      "text/html": [
       "<div>\n",
       "<style scoped>\n",
       "    .dataframe tbody tr th:only-of-type {\n",
       "        vertical-align: middle;\n",
       "    }\n",
       "\n",
       "    .dataframe tbody tr th {\n",
       "        vertical-align: top;\n",
       "    }\n",
       "\n",
       "    .dataframe thead th {\n",
       "        text-align: right;\n",
       "    }\n",
       "</style>\n",
       "<table border=\"1\" class=\"dataframe\">\n",
       "  <thead>\n",
       "    <tr style=\"text-align: right;\">\n",
       "      <th></th>\n",
       "      <th>price</th>\n",
       "      <th>amount</th>\n",
       "      <th>sell</th>\n",
       "    </tr>\n",
       "    <tr>\n",
       "      <th>date</th>\n",
       "      <th></th>\n",
       "      <th></th>\n",
       "      <th></th>\n",
       "    </tr>\n",
       "  </thead>\n",
       "  <tbody>\n",
       "    <tr>\n",
       "      <th>2018-02-02 02:00:08</th>\n",
       "      <td>7349.60000</td>\n",
       "      <td>0.004568</td>\n",
       "      <td>False</td>\n",
       "    </tr>\n",
       "    <tr>\n",
       "      <th>2018-02-02 02:00:09</th>\n",
       "      <td>7354.68045</td>\n",
       "      <td>0.010000</td>\n",
       "      <td>True</td>\n",
       "    </tr>\n",
       "    <tr>\n",
       "      <th>2018-02-02 02:00:09</th>\n",
       "      <td>7354.68045</td>\n",
       "      <td>0.004568</td>\n",
       "      <td>True</td>\n",
       "    </tr>\n",
       "    <tr>\n",
       "      <th>2018-02-02 02:00:10</th>\n",
       "      <td>7354.60000</td>\n",
       "      <td>0.102395</td>\n",
       "      <td>False</td>\n",
       "    </tr>\n",
       "    <tr>\n",
       "      <th>2018-02-02 02:00:26</th>\n",
       "      <td>7343.40750</td>\n",
       "      <td>0.086580</td>\n",
       "      <td>False</td>\n",
       "    </tr>\n",
       "  </tbody>\n",
       "</table>\n",
       "</div>"
      ],
      "text/plain": [
       "                          price    amount   sell\n",
       "date                                            \n",
       "2018-02-02 02:00:08  7349.60000  0.004568  False\n",
       "2018-02-02 02:00:09  7354.68045  0.010000   True\n",
       "2018-02-02 02:00:09  7354.68045  0.004568   True\n",
       "2018-02-02 02:00:10  7354.60000  0.102395  False\n",
       "2018-02-02 02:00:26  7343.40750  0.086580  False"
      ]
     },
     "execution_count": 4,
     "metadata": {},
     "output_type": "execute_result"
    }
   ],
   "source": [
    "trades.head()"
   ]
  },
  {
   "cell_type": "code",
   "execution_count": 5,
   "metadata": {},
   "outputs": [
    {
     "data": {
      "text/html": [
       "<div>\n",
       "<style scoped>\n",
       "    .dataframe tbody tr th:only-of-type {\n",
       "        vertical-align: middle;\n",
       "    }\n",
       "\n",
       "    .dataframe tbody tr th {\n",
       "        vertical-align: top;\n",
       "    }\n",
       "\n",
       "    .dataframe thead th {\n",
       "        text-align: right;\n",
       "    }\n",
       "</style>\n",
       "<table border=\"1\" class=\"dataframe\">\n",
       "  <thead>\n",
       "    <tr style=\"text-align: right;\">\n",
       "      <th></th>\n",
       "      <th>price</th>\n",
       "    </tr>\n",
       "    <tr>\n",
       "      <th>date</th>\n",
       "      <th></th>\n",
       "    </tr>\n",
       "  </thead>\n",
       "  <tbody>\n",
       "    <tr>\n",
       "      <th>2018-02-02 02:00:00</th>\n",
       "      <td>7351.364330</td>\n",
       "    </tr>\n",
       "    <tr>\n",
       "      <th>2018-02-02 02:01:00</th>\n",
       "      <td>7346.674273</td>\n",
       "    </tr>\n",
       "    <tr>\n",
       "      <th>2018-02-02 02:02:00</th>\n",
       "      <td>7341.799657</td>\n",
       "    </tr>\n",
       "    <tr>\n",
       "      <th>2018-02-02 02:03:00</th>\n",
       "      <td>7338.249829</td>\n",
       "    </tr>\n",
       "    <tr>\n",
       "      <th>2018-02-02 02:04:00</th>\n",
       "      <td>7334.700000</td>\n",
       "    </tr>\n",
       "  </tbody>\n",
       "</table>\n",
       "</div>"
      ],
      "text/plain": [
       "                           price\n",
       "date                            \n",
       "2018-02-02 02:00:00  7351.364330\n",
       "2018-02-02 02:01:00  7346.674273\n",
       "2018-02-02 02:02:00  7341.799657\n",
       "2018-02-02 02:03:00  7338.249829\n",
       "2018-02-02 02:04:00  7334.700000"
      ]
     },
     "execution_count": 5,
     "metadata": {},
     "output_type": "execute_result"
    }
   ],
   "source": [
    "trades2 = trades['price'].resample('1T').mean()\n",
    "trades2.interpolate(inplace = True)\n",
    "trades2 = trades2.to_frame()\n",
    "trades2.head()"
   ]
  },
  {
   "cell_type": "code",
   "execution_count": 6,
   "metadata": {},
   "outputs": [],
   "source": [
    "calcSMA(trades2, trades2['price'], 10)\n",
    "exponential_weighted_average(trades2, trades2['SMA-10'], trades2['price'], 10)"
   ]
  },
  {
   "cell_type": "code",
   "execution_count": 7,
   "metadata": {},
   "outputs": [
    {
     "data": {
      "text/html": [
       "<div>\n",
       "<style scoped>\n",
       "    .dataframe tbody tr th:only-of-type {\n",
       "        vertical-align: middle;\n",
       "    }\n",
       "\n",
       "    .dataframe tbody tr th {\n",
       "        vertical-align: top;\n",
       "    }\n",
       "\n",
       "    .dataframe thead th {\n",
       "        text-align: right;\n",
       "    }\n",
       "</style>\n",
       "<table border=\"1\" class=\"dataframe\">\n",
       "  <thead>\n",
       "    <tr style=\"text-align: right;\">\n",
       "      <th></th>\n",
       "      <th>price</th>\n",
       "      <th>SMA-10</th>\n",
       "      <th>EWM-10</th>\n",
       "    </tr>\n",
       "    <tr>\n",
       "      <th>date</th>\n",
       "      <th></th>\n",
       "      <th></th>\n",
       "      <th></th>\n",
       "    </tr>\n",
       "  </thead>\n",
       "  <tbody>\n",
       "    <tr>\n",
       "      <th>2018-02-03 01:40:00</th>\n",
       "      <td>7123.428571</td>\n",
       "      <td>7157.860850</td>\n",
       "      <td>7123.867258</td>\n",
       "    </tr>\n",
       "    <tr>\n",
       "      <th>2018-02-03 01:41:00</th>\n",
       "      <td>7124.718054</td>\n",
       "      <td>7154.618852</td>\n",
       "      <td>7124.888213</td>\n",
       "    </tr>\n",
       "    <tr>\n",
       "      <th>2018-02-03 01:42:00</th>\n",
       "      <td>7127.465625</td>\n",
       "      <td>7151.812509</td>\n",
       "      <td>7127.981107</td>\n",
       "    </tr>\n",
       "    <tr>\n",
       "      <th>2018-02-03 01:43:00</th>\n",
       "      <td>7110.375868</td>\n",
       "      <td>7147.570739</td>\n",
       "      <td>7106.854821</td>\n",
       "    </tr>\n",
       "    <tr>\n",
       "      <th>2018-02-03 01:44:00</th>\n",
       "      <td>7093.286112</td>\n",
       "      <td>7142.508325</td>\n",
       "      <td>7090.572370</td>\n",
       "    </tr>\n",
       "    <tr>\n",
       "      <th>2018-02-03 01:45:00</th>\n",
       "      <td>7056.857143</td>\n",
       "      <td>7134.628940</td>\n",
       "      <td>7050.114097</td>\n",
       "    </tr>\n",
       "    <tr>\n",
       "      <th>2018-02-03 01:46:00</th>\n",
       "      <td>7078.716667</td>\n",
       "      <td>7123.224654</td>\n",
       "      <td>7084.437181</td>\n",
       "    </tr>\n",
       "    <tr>\n",
       "      <th>2018-02-03 01:47:00</th>\n",
       "      <td>7103.571429</td>\n",
       "      <td>7114.273622</td>\n",
       "      <td>7107.398278</td>\n",
       "    </tr>\n",
       "    <tr>\n",
       "      <th>2018-02-03 01:48:00</th>\n",
       "      <td>7107.985714</td>\n",
       "      <td>7108.528198</td>\n",
       "      <td>7108.103202</td>\n",
       "    </tr>\n",
       "    <tr>\n",
       "      <th>2018-02-03 01:49:00</th>\n",
       "      <td>7112.400000</td>\n",
       "      <td>7105.063830</td>\n",
       "      <td>7113.259360</td>\n",
       "    </tr>\n",
       "    <tr>\n",
       "      <th>2018-02-03 01:50:00</th>\n",
       "      <td>7092.294011</td>\n",
       "      <td>7103.880518</td>\n",
       "      <td>7088.100941</td>\n",
       "    </tr>\n",
       "    <tr>\n",
       "      <th>2018-02-03 01:51:00</th>\n",
       "      <td>7077.681979</td>\n",
       "      <td>7100.767062</td>\n",
       "      <td>7075.598187</td>\n",
       "    </tr>\n",
       "    <tr>\n",
       "      <th>2018-02-03 01:52:00</th>\n",
       "      <td>7106.378815</td>\n",
       "      <td>7096.063455</td>\n",
       "      <td>7112.534941</td>\n",
       "    </tr>\n",
       "    <tr>\n",
       "      <th>2018-02-03 01:53:00</th>\n",
       "      <td>7135.075652</td>\n",
       "      <td>7093.954774</td>\n",
       "      <td>7139.583794</td>\n",
       "    </tr>\n",
       "    <tr>\n",
       "      <th>2018-02-03 01:54:00</th>\n",
       "      <td>7149.653155</td>\n",
       "      <td>7096.424752</td>\n",
       "      <td>7151.667028</td>\n",
       "    </tr>\n",
       "    <tr>\n",
       "      <th>2018-02-03 01:55:00</th>\n",
       "      <td>7153.457237</td>\n",
       "      <td>7102.061456</td>\n",
       "      <td>7153.815279</td>\n",
       "    </tr>\n",
       "    <tr>\n",
       "      <th>2018-02-03 01:56:00</th>\n",
       "      <td>7139.008226</td>\n",
       "      <td>7111.721466</td>\n",
       "      <td>7136.046815</td>\n",
       "    </tr>\n",
       "    <tr>\n",
       "      <th>2018-02-03 01:57:00</th>\n",
       "      <td>7123.637783</td>\n",
       "      <td>7117.750622</td>\n",
       "      <td>7121.155977</td>\n",
       "    </tr>\n",
       "    <tr>\n",
       "      <th>2018-02-03 01:58:00</th>\n",
       "      <td>7139.363636</td>\n",
       "      <td>7119.757257</td>\n",
       "      <td>7143.005168</td>\n",
       "    </tr>\n",
       "    <tr>\n",
       "      <th>2018-02-03 01:59:00</th>\n",
       "      <td>7133.751078</td>\n",
       "      <td>7122.895049</td>\n",
       "      <td>7131.900260</td>\n",
       "    </tr>\n",
       "  </tbody>\n",
       "</table>\n",
       "</div>"
      ],
      "text/plain": [
       "                           price       SMA-10       EWM-10\n",
       "date                                                      \n",
       "2018-02-03 01:40:00  7123.428571  7157.860850  7123.867258\n",
       "2018-02-03 01:41:00  7124.718054  7154.618852  7124.888213\n",
       "2018-02-03 01:42:00  7127.465625  7151.812509  7127.981107\n",
       "2018-02-03 01:43:00  7110.375868  7147.570739  7106.854821\n",
       "2018-02-03 01:44:00  7093.286112  7142.508325  7090.572370\n",
       "2018-02-03 01:45:00  7056.857143  7134.628940  7050.114097\n",
       "2018-02-03 01:46:00  7078.716667  7123.224654  7084.437181\n",
       "2018-02-03 01:47:00  7103.571429  7114.273622  7107.398278\n",
       "2018-02-03 01:48:00  7107.985714  7108.528198  7108.103202\n",
       "2018-02-03 01:49:00  7112.400000  7105.063830  7113.259360\n",
       "2018-02-03 01:50:00  7092.294011  7103.880518  7088.100941\n",
       "2018-02-03 01:51:00  7077.681979  7100.767062  7075.598187\n",
       "2018-02-03 01:52:00  7106.378815  7096.063455  7112.534941\n",
       "2018-02-03 01:53:00  7135.075652  7093.954774  7139.583794\n",
       "2018-02-03 01:54:00  7149.653155  7096.424752  7151.667028\n",
       "2018-02-03 01:55:00  7153.457237  7102.061456  7153.815279\n",
       "2018-02-03 01:56:00  7139.008226  7111.721466  7136.046815\n",
       "2018-02-03 01:57:00  7123.637783  7117.750622  7121.155977\n",
       "2018-02-03 01:58:00  7139.363636  7119.757257  7143.005168\n",
       "2018-02-03 01:59:00  7133.751078  7122.895049  7131.900260"
      ]
     },
     "execution_count": 7,
     "metadata": {},
     "output_type": "execute_result"
    }
   ],
   "source": [
    "trades2.tail(20)"
   ]
  },
  {
   "cell_type": "code",
   "execution_count": 8,
   "metadata": {},
   "outputs": [
    {
     "name": "stderr",
     "output_type": "stream",
     "text": [
      "/home/shlok/.pyenv/versions/3.6.5/lib/python3.6/site-packages/matplotlib/cbook/deprecation.py:107: MatplotlibDeprecationWarning: Adding an axes using the same arguments as a previous axes currently reuses the earlier instance.  In a future version, a new instance will always be created and returned.  Meanwhile, this warning can be suppressed, and the future behavior ensured, by passing a unique label to each axes instance.\n",
      "  warnings.warn(message, mplDeprecation, stacklevel=1)\n"
     ]
    },
    {
     "data": {
      "image/png": "[encoded data removed]",
      "text/plain": [
       "<Figure size 432x288 with 1 Axes>"
      ]
     },
     "metadata": {},
     "output_type": "display_data"
    }
   ],
   "source": [
    "plt.plot(trades.index.values, trades['price'])\n",
    "myFmt = mdates.DateFormatter('%m/%d %H:%M');\n",
    "ax = plt.axes();\n",
    "ax.xaxis.set_major_formatter(myFmt);\n",
    "plt.gcf().autofmt_xdate();"
   ]
  },
  {
   "cell_type": "code",
   "execution_count": 9,
   "metadata": {},
   "outputs": [
    {
     "name": "stderr",
     "output_type": "stream",
     "text": [
      "/home/shlok/.pyenv/versions/3.6.5/lib/python3.6/site-packages/matplotlib/cbook/deprecation.py:107: MatplotlibDeprecationWarning: Adding an axes using the same arguments as a previous axes currently reuses the earlier instance.  In a future version, a new instance will always be created and returned.  Meanwhile, this warning can be suppressed, and the future behavior ensured, by passing a unique label to each axes instance.\n",
      "  warnings.warn(message, mplDeprecation, stacklevel=1)\n"
     ]
    },
    {
     "data": {
      "image/png": "[encoded data removed]",
      "text/plain": [
       "<Figure size 432x288 with 1 Axes>"
      ]
     },
     "metadata": {},
     "output_type": "display_data"
    }
   ],
   "source": [
    "plt.plot(trades2.index.values, trades2['SMA-10'])\n",
    "ax = plt.axes();\n",
    "ax.xaxis.set_major_formatter(myFmt);\n",
    "plt.gcf().autofmt_xdate();"
   ]
  },
  {
   "cell_type": "code",
   "execution_count": 10,
   "metadata": {},
   "outputs": [
    {
     "name": "stderr",
     "output_type": "stream",
     "text": [
      "/home/shlok/.pyenv/versions/3.6.5/lib/python3.6/site-packages/matplotlib/cbook/deprecation.py:107: MatplotlibDeprecationWarning: Adding an axes using the same arguments as a previous axes currently reuses the earlier instance.  In a future version, a new instance will always be created and returned.  Meanwhile, this warning can be suppressed, and the future behavior ensured, by passing a unique label to each axes instance.\n",
      "  warnings.warn(message, mplDeprecation, stacklevel=1)\n"
     ]
    },
    {
     "data": {
      "image/png": "[encoded data removed]",
      "text/plain": [
       "<Figure size 432x288 with 1 Axes>"
      ]
     },
     "metadata": {},
     "output_type": "display_data"
    }
   ],
   "source": [
    "plt.plot(trades2.index.values, trades2['EWM-10'])\n",
    "ax = plt.axes();\n",
    "ax.xaxis.set_major_formatter(myFmt);\n",
    "plt.gcf().autofmt_xdate();"
   ]
  },
  {
   "cell_type": "code",
   "execution_count": null,
   "metadata": {},
   "outputs": [],
   "source": []
  }
 ],
 "metadata": {
  "kernelspec": {
   "display_name": "Python 3",
   "language": "python",
   "name": "python3"
  },
  "language_info": {
   "codemirror_mode": {
    "name": "ipython",
    "version": 3
   },
   "file_extension": ".py",
   "mimetype": "text/x-python",
   "name": "python",
   "nbconvert_exporter": "python",
   "pygments_lexer": "ipython3",
   "version": "3.6.5"
  }
 },
 "nbformat": 4,
 "nbformat_minor": 2
}
